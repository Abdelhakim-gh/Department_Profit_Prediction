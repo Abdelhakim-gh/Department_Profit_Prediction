{
 "cells": [
  {
   "cell_type": "markdown",
   "metadata": {},
   "source": [
    "## Regression lineaire Simple"
   ]
  },
  {
   "cell_type": "code",
   "execution_count": 7,
   "metadata": {},
   "outputs": [],
   "source": [
    "# Régression Linéaire Simple\n",
    "import numpy as np\n",
    "import matplotlib.pyplot as plt\n",
    "import pandas as pd\n",
    "from statistics import mean\n",
    "\n",
    "# Importer le dataset\n",
    "dataset = pd.read_csv('Salary_Data.csv')\n",
    "X = dataset.iloc[:, :-1].values\n",
    "y = dataset.iloc[:, -1].values"
   ]
  },
  {
   "cell_type": "code",
   "execution_count": 8,
   "metadata": {},
   "outputs": [
    {
     "data": {
      "text/plain": [
       "array([167181.3106341])"
      ]
     },
     "execution_count": 8,
     "metadata": {},
     "output_type": "execute_result"
    }
   ],
   "source": [
    "# Diviser le dataset entre le Training set et le Test set\n",
    "from sklearn.model_selection import train_test_split\n",
    "X_train, X_test, y_train, y_test = train_test_split(X, y, test_size = 0.3, random_state = 0)\n",
    "\n",
    "# Construction du modèle\n",
    "from sklearn.linear_model import LinearRegression\n",
    "\n",
    "regressor = LinearRegression()\n",
    "\n",
    "regressor.fit(X_train, y_train)\n",
    "\n",
    "y_pred = regressor.predict(X_test)\n",
    "\n",
    "regressor.predict([[15]])  "
   ]
  },
  {
   "cell_type": "code",
   "execution_count": 9,
   "metadata": {},
   "outputs": [
    {
     "data": {
      "image/png": "[encoded data removed]",
      "text/plain": [
       "<Figure size 640x480 with 1 Axes>"
      ]
     },
     "metadata": {},
     "output_type": "display_data"
    }
   ],
   "source": [
    "#ici on va voir les valeurs des parametres de notre equation\n",
    "# y=ax+b\n",
    "regressor.coef_\n",
    "regressor.intercept_\n",
    "\n",
    "plt.scatter(X_test, y_test, color = 'red')\n",
    "plt.plot(X_train, regressor.predict(X_train), color = 'blue')\n",
    "plt.title(u'Salaire vs Expérience')\n",
    "plt.xlabel(u'Expérience')\n",
    "plt.ylabel(u'Salaire')\n",
    "plt.show()"
   ]
  },
  {
   "cell_type": "code",
   "execution_count": 10,
   "metadata": {},
   "outputs": [
    {
     "data": {
      "text/plain": [
       "4834.260936361728"
      ]
     },
     "execution_count": 10,
     "metadata": {},
     "output_type": "execute_result"
    }
   ],
   "source": [
    "# evaluer notre modele \n",
    "from sklearn.metrics import r2_score\n",
    "r2_score(y_test, y_pred)\n",
    "\n",
    "from sklearn.metrics import mean_squared_error\n",
    "mse = mean_squared_error(y_test, y_pred)\n",
    "mse\n",
    "rmse = np.sqrt(mse)\n",
    "rmse\n"
   ]
  },
  {
   "cell_type": "markdown",
   "metadata": {},
   "source": [
    "## Regression lineaire Multiple"
   ]
  },
  {
   "cell_type": "code",
   "execution_count": 2,
   "metadata": {},
   "outputs": [],
   "source": [
    "# Importer les librairies\n",
    "import numpy as np\n",
    "import pandas as pd\n",
    "\n",
    "# Importer le dataset\n",
    "dataset = pd.read_csv('50_Startups.csv')\n",
    "\n",
    "X = dataset.iloc[:, :-1].values\n",
    "y = dataset.iloc[:, -1].values"
   ]
  },
  {
   "cell_type": "code",
   "execution_count": 3,
   "metadata": {},
   "outputs": [],
   "source": [
    "# Gérer les variables catégoriques\n",
    "# on importe la classe pour appliquer la méthode des dummy variables\n",
    "from sklearn.preprocessing import OneHotEncoder\n",
    "from sklearn.compose import ColumnTransformer\n",
    "\n",
    "transformer = ColumnTransformer(\n",
    "    transformers=[\n",
    "        (\"OneHot\",        \n",
    "         OneHotEncoder(), \n",
    "         [3]              \n",
    "         )\n",
    "    ],\n",
    "   remainder='passthrough' \n",
    ")\n",
    "\n",
    "X = transformer.fit_transform(X)\n",
    "\n",
    "X = X.astype('int')"
   ]
  },
  {
   "cell_type": "code",
   "execution_count": 4,
   "metadata": {},
   "outputs": [
    {
     "data": {
      "text/plain": [
       "array([157732.94960082])"
      ]
     },
     "execution_count": 4,
     "metadata": {},
     "output_type": "execute_result"
    }
   ],
   "source": [
    "# Diviser le dataset entre le Training set et le Test set\n",
    "from sklearn.model_selection import train_test_split\n",
    "X_train, X_test, y_train, y_test = train_test_split(X, y, test_size = 0.2, random_state = 0)\n",
    "\n",
    "# Construction du modèle\n",
    "from sklearn.linear_model import LinearRegression\n",
    "regressor = LinearRegression()\n",
    "\n",
    "regressor.fit(X_train, y_train)\n",
    "\n",
    "y_pred = regressor.predict(X_test)\n",
    "\n",
    "regressor.predict(np.array([[0,1, 0, 130000, 140000, 300000]]))"
   ]
  },
  {
   "cell_type": "code",
   "execution_count": 5,
   "metadata": {},
   "outputs": [
    {
     "data": {
      "text/plain": [
       "9138.007570984666"
      ]
     },
     "execution_count": 5,
     "metadata": {},
     "output_type": "execute_result"
    }
   ],
   "source": [
    "#ici on va voir les valeurs des parametres de notre equation\n",
    "# y=a1x1+a2x2 + a3x3+ a4x4+ a5x5+ b\n",
    "#pour b c'est regressor.intercept_\n",
    "regressor.intercept_\n",
    "# pour a1 a2 a3 a4 a5 c est regressor.coef_\n",
    "regressor.coef_\n",
    "\n",
    "from sklearn.metrics import r2_score\n",
    "#ici on va calculer r2 pour toutes les 6 variables\n",
    "r2_score(y_test, y_pred)\n",
    "\n",
    "from sklearn.metrics import mean_squared_error\n",
    "mse = mean_squared_error(y_test, y_pred)\n",
    "mse\n",
    "rmse = np.sqrt(mse)\n",
    "rmse\n"
   ]
  },
  {
   "cell_type": "code",
   "execution_count": null,
   "metadata": {},
   "outputs": [],
   "source": [
    "#pour avoir une idée sur la performance du modele on verifier le mae pour training set et le mae pour testing set\n",
    "y_pred_train = regressor.predict(X_train)\n",
    "\n",
    "from sklearn.metrics import  mean_absolute_error\n",
    "\n",
    "mae_train = mean_absolute_error(y_train, y_pred_train)\n",
    "mae_train\n",
    "mae_test = mean_absolute_error(y_test, y_pred)\n",
    "mae_test"
   ]
  },
  {
   "cell_type": "code",
   "execution_count": 6,
   "metadata": {},
   "outputs": [
    {
     "name": "stdout",
     "output_type": "stream",
     "text": [
      "0.94469682468278\n",
      "Column: 0, Selected True, Rank: 1.000\n",
      "Column: 1, Selected True, Rank: 1.000\n",
      "Column: 2, Selected True, Rank: 1.000\n",
      "Column: 3, Selected True, Rank: 1.000\n",
      "Column: 4, Selected False, Rank: 2.000\n",
      "Column: 5, Selected True, Rank: 1.000\n",
      "0.9471684020352678\n",
      "Column: 0, Selected True, Rank: 1.000\n",
      "Column: 1, Selected True, Rank: 1.000\n",
      "Column: 2, Selected True, Rank: 1.000\n",
      "Column: 3, Selected True, Rank: 1.000\n",
      "Column: 4, Selected False, Rank: 3.000\n",
      "Column: 5, Selected False, Rank: 2.000\n"
     ]
    }
   ],
   "source": [
    "#ici on va essayer de trouver un modele mais avec moins de variables, on va esayer 3 puis 4 puis 5\n",
    "from sklearn.feature_selection import RFE\n",
    "\n",
    "rfe_5 = RFE(regressor, n_features_to_select=5)\n",
    "rfe_5.fit(X_train, y_train)\n",
    "y_pred = rfe_5.predict(X_test)\n",
    "print(r2_score(y_test, y_pred))\n",
    "\n",
    "for i in range(X_train.shape[1]):\n",
    "\tprint('Column: %d, Selected %s, Rank: %.3f' % (i, rfe_5.support_[i], rfe_5.ranking_[i]))\n",
    "\n",
    "rfe_4 = RFE(regressor, n_features_to_select=4)\n",
    "rfe_4.fit(X_train, y_train)\n",
    "y_pred = rfe_4.predict(X_test)\n",
    "print(r2_score(y_test, y_pred))\n",
    "\n",
    "for i in range(X_train.shape[1]):\n",
    "\tprint('Column: %d, Selected %s, Rank: %.3f' % (i, rfe_4.support_[i], rfe_4.ranking_[i]))"
   ]
  },
  {
   "cell_type": "code",
   "execution_count": 8,
   "metadata": {},
   "outputs": [],
   "source": [
    "# Régression Linéaire Simple\n",
    "import numpy as np\n",
    "import matplotlib.pyplot as plt\n",
    "import pandas as pd\n",
    "from statistics import mean\n",
    "\n",
    "# Importer le dataset\n",
    "dataset = pd.read_csv('Salary_Data.csv')\n",
    "X = dataset.iloc[:, :-1].values\n",
    "y = dataset.iloc[:, -1].values"
   ]
  },
  {
   "cell_type": "code",
   "execution_count": 9,
   "metadata": {},
   "outputs": [
    {
     "data": {
      "text/plain": [
       "array([167181.3106341])"
      ]
     },
     "execution_count": 9,
     "metadata": {},
     "output_type": "execute_result"
    }
   ],
   "source": [
    "# Diviser le dataset entre le Training set et le Test set\n",
    "from sklearn.model_selection import train_test_split\n",
    "X_train, X_test, y_train, y_test = train_test_split(X, y, test_size = 0.3, random_state = 0)\n",
    "\n",
    "# Construction du modèle\n",
    "from sklearn.linear_model import LinearRegression\n",
    "\n",
    "regressor = LinearRegression()\n",
    "\n",
    "regressor.fit(X_train, y_train)\n",
    "\n",
    "y_pred = regressor.predict(X_test)\n",
    "\n",
    "regressor.predict([[15]])  "
   ]
  },
  {
   "cell_type": "code",
   "execution_count": 10,
   "metadata": {},
   "outputs": [
    {
     "data": {
      "image/png": "[encoded data removed]",
      "text/plain": [
       "<Figure size 640x480 with 1 Axes>"
      ]
     },
     "metadata": {},
     "output_type": "display_data"
    }
   ],
   "source": [
    "#ici on va voir les valeurs des parametres de notre equation\n",
    "# y=ax+b\n",
    "regressor.coef_\n",
    "regressor.intercept_\n",
    "\n",
    "plt.scatter(X_test, y_test, color = 'red')\n",
    "plt.plot(X_train, regressor.predict(X_train), color = 'blue')\n",
    "plt.title(u'Salaire vs Expérience')\n",
    "plt.xlabel(u'Expérience')\n",
    "plt.ylabel(u'Salaire')\n",
    "plt.show()"
   ]
  },
  {
   "cell_type": "code",
   "execution_count": 11,
   "metadata": {},
   "outputs": [
    {
     "data": {
      "text/plain": [
       "4834.260936361728"
      ]
     },
     "execution_count": 11,
     "metadata": {},
     "output_type": "execute_result"
    }
   ],
   "source": [
    "# evaluer notre modele \n",
    "from sklearn.metrics import r2_score\n",
    "r2_score(y_test, y_pred)\n",
    "\n",
    "from sklearn.metrics import mean_squared_error\n",
    "mse = mean_squared_error(y_test, y_pred)\n",
    "mse\n",
    "rmse = np.sqrt(mse)\n",
    "rmse\n"
   ]
  },
  {
   "cell_type": "markdown",
   "metadata": {},
   "source": [
    "## Web Page for Prediction"
   ]
  },
  {
   "cell_type": "code",
   "execution_count": 1,
   "metadata": {},
   "outputs": [],
   "source": [
    "# model.py\n",
    "import pandas as pd\n",
    "from sklearn.model_selection import train_test_split\n",
    "from sklearn.linear_model import LinearRegression\n",
    "from sklearn.feature_selection import RFE\n",
    "import pickle\n",
    "\n",
    "# Load the data\n",
    "data = pd.read_csv('50_Startups.csv')\n",
    "\n",
    "# Prepare the data\n",
    "X = data[['R&D Spend', 'Administration', 'Marketing Spend', 'State']]\n",
    "y = data['Profit']\n",
    "\n",
    "# Convert categorical variable 'State' to dummy variables\n",
    "X = pd.get_dummies(X, columns=['State'], drop_first=True)\n",
    "\n",
    "# Split the data\n",
    "X_train, X_test, y_train, y_test = train_test_split(X, y, test_size=0.2, random_state=0)\n",
    "\n",
    "# Train the model\n",
    "regressor = LinearRegression()\n",
    "rfe = RFE(regressor, n_features_to_select=4)\n",
    "rfe.fit(X_train, y_train)\n",
    "\n",
    "# Save the model\n",
    "with open('model.pkl', 'wb') as file:\n",
    "    pickle.dump(rfe, file)"
   ]
  },
  {
   "cell_type": "code",
   "execution_count": null,
   "metadata": {},
   "outputs": [
    {
     "name": "stdout",
     "output_type": "stream",
     "text": [
      " * Serving Flask app '__main__'\n",
      " * Debug mode: on\n"
     ]
    },
    {
     "name": "stderr",
     "output_type": "stream",
     "text": [
      "WARNING: This is a development server. Do not use it in a production deployment. Use a production WSGI server instead.\n",
      " * Running on http://127.0.0.1:5000\n",
      "Press CTRL+C to quit\n",
      "127.0.0.1 - - [06/Dec/2024 11:53:51] \"GET / HTTP/1.1\" 200 -\n",
      "c:\\Users\\lenovo\\AppData\\Local\\Programs\\Python\\Python311\\Lib\\site-packages\\sklearn\\base.py:493: UserWarning: X does not have valid feature names, but RFE was fitted with feature names\n",
      "  warnings.warn(\n",
      "127.0.0.1 - - [06/Dec/2024 11:53:59] \"POST /predict HTTP/1.1\" 200 -\n"
     ]
    }
   ],
   "source": [
    "from flask import Flask, request, render_template_string\n",
    "import pickle\n",
    "import numpy as np\n",
    "import threading\n",
    "\n",
    "app = Flask(__name__)\n",
    "\n",
    "# Load the model\n",
    "with open('model.pkl', 'rb') as file:\n",
    "    model = pickle.load(file)\n",
    "\n",
    "# HTML template\n",
    "html_template = \"\"\"\n",
    "<!DOCTYPE html>\n",
    "<html lang=\"en\">\n",
    "<head>\n",
    "    <meta charset=\"UTF-8\">\n",
    "    <meta name=\"viewport\" content=\"width=device-width, initial-scale=1.0\">\n",
    "    <title>Profit Prediction</title>\n",
    "</head>\n",
    "<body>\n",
    "    <h1>Profit Prediction</h1>\n",
    "    <form action=\"/predict\" method=\"post\">\n",
    "        <label for=\"RnD_Spend\">R&D Spend:</label>\n",
    "        <input type=\"text\" id=\"RnD_Spend\" name=\"RnD_Spend\"><br><br>\n",
    "        <label for=\"Administration\">Administration:</label>\n",
    "        <input type=\"text\" id=\"Administration\" name=\"Administration\"><br><br>\n",
    "        <label for=\"Marketing_Spend\">Marketing Spend:</label>\n",
    "        <input type=\"text\" id=\"Marketing_Spend\" name=\"Marketing_Spend\"><br><br>\n",
    "        <label for=\"State\">State:</label>\n",
    "        <select id=\"State\" name=\"State\">\n",
    "            <option value=\"New York\">New York</option>\n",
    "            <option value=\"California\">California</option>\n",
    "            <option value=\"Florida\">Florida</option>\n",
    "        </select><br><br>\n",
    "        <input type=\"submit\" value=\"Predict\">\n",
    "    </form>\n",
    "    {% if prediction_text %}\n",
    "        <h2>{{ prediction_text }}</h2>\n",
    "    {% endif %}\n",
    "</body>\n",
    "</html>\n",
    "\"\"\"\n",
    "\n",
    "@app.route('/')\n",
    "def home():\n",
    "    return render_template_string(html_template)\n",
    "\n",
    "@app.route('/predict', methods=['POST'])\n",
    "def predict():\n",
    "    try:\n",
    "        RnD_Spend = float(request.form['RnD_Spend'])\n",
    "        Administration = float(request.form['Administration'])\n",
    "        Marketing_Spend = float(request.form['Marketing_Spend'])\n",
    "        State = request.form['State']\n",
    "\n",
    "        # Convert State to dummy variables\n",
    "        state_dummies = [0, 0]\n",
    "        if State == 'California':\n",
    "            state_dummies = [1, 0]\n",
    "        elif State == 'Florida':\n",
    "            state_dummies = [0, 1]\n",
    "\n",
    "        features = np.array([RnD_Spend, Administration, Marketing_Spend] + state_dummies).reshape(1, -1)\n",
    "        prediction = model.predict(features)\n",
    "\n",
    "        return render_template_string(html_template, prediction_text='Predicted Profit: ${:.2f}'.format(prediction[0]))\n",
    "    except Exception as e:\n",
    "        return render_template_string(html_template, prediction_text=f\"Error: {str(e)}\")\n",
    "\n",
    "# Run the Flask app in a separate thread\n",
    "def run_app():\n",
    "    app.run(debug=True, use_reloader=False)\n",
    "\n",
    "thread = threading.Thread(target=run_app)\n",
    "thread.start()"
   ]
  },
  {
   "cell_type": "markdown",
   "metadata": {},
   "source": [
    "![image.png](image.png)"
   ]
  }
 ],
 "metadata": {
  "kernelspec": {
   "display_name": "Python 3",
   "language": "python",
   "name": "python3"
  },
  "language_info": {
   "codemirror_mode": {
    "name": "ipython",
    "version": 3
   },
   "file_extension": ".py",
   "mimetype": "text/x-python",
   "name": "python",
   "nbconvert_exporter": "python",
   "pygments_lexer": "ipython3",
   "version": "3.11.5"
  }
 },
 "nbformat": 4,
 "nbformat_minor": 2
}
